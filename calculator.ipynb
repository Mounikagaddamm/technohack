{
 "cells": [
  {
   "cell_type": "code",
   "execution_count": 1,
   "id": "07e57379-7ffb-43f3-913f-244aa5104d7d",
   "metadata": {},
   "outputs": [
    {
     "name": "stdout",
     "output_type": "stream",
     "text": [
      "Select operation:\n",
      "1. Addition\n",
      "2. Subtraction\n",
      "3. Multiplication\n",
      "4. Division\n"
     ]
    },
    {
     "name": "stdin",
     "output_type": "stream",
     "text": [
      "Enter choice (1/2/3/4):  3\n",
      "Enter first number:  22\n",
      "Enter second number:  23\n"
     ]
    },
    {
     "name": "stdout",
     "output_type": "stream",
     "text": [
      "22.0 * 23.0 = 506.0\n"
     ]
    }
   ],
   "source": [
    "# Function for addition\n",
    "def add(x, y):\n",
    "    return x + y\n",
    "\n",
    "# Function for subtraction\n",
    "def subtract(x, y):\n",
    "    return x - y\n",
    "\n",
    "# Function for multiplication\n",
    "def multiply(x, y):\n",
    "    return x * y\n",
    "\n",
    "# Function for division\n",
    "def divide(x, y):\n",
    "    if y == 0:\n",
    "        return \"Error! Division by zero.\"\n",
    "    return x / y\n",
    "\n",
    "# Main function to use the calculator\n",
    "def calculator():\n",
    "    print(\"Select operation:\")\n",
    "    print(\"1. Addition\")\n",
    "    print(\"2. Subtraction\")\n",
    "    print(\"3. Multiplication\")\n",
    "    print(\"4. Division\")\n",
    "\n",
    "    # Take input from the user\n",
    "    choice = input(\"Enter choice (1/2/3/4): \")\n",
    "\n",
    "    if choice in ['1', '2', '3', '4']:\n",
    "        num1 = float(input(\"Enter first number: \"))\n",
    "        num2 = float(input(\"Enter second number: \"))\n",
    "\n",
    "        if choice == '1':\n",
    "            print(f\"{num1} + {num2} = {add(num1, num2)}\")\n",
    "        elif choice == '2':\n",
    "            print(f\"{num1} - {num2} = {subtract(num1, num2)}\")\n",
    "        elif choice == '3':\n",
    "            print(f\"{num1} * {num2} = {multiply(num1, num2)}\")\n",
    "        elif choice == '4':\n",
    "            print(f\"{num1} / {num2} = {divide(num1, num2)}\")\n",
    "    else:\n",
    "        print(\"Invalid Input\")\n",
    "\n",
    "# Run the calculator\n",
    "calculator()"
   ]
  },
  {
   "cell_type": "code",
   "execution_count": null,
   "id": "902cdde2-dde5-4e9b-9e31-3e301e6eac8b",
   "metadata": {},
   "outputs": [],
   "source": []
  }
 ],
 "metadata": {
  "kernelspec": {
   "display_name": "Python 3 (ipykernel)",
   "language": "python",
   "name": "python3"
  },
  "language_info": {
   "codemirror_mode": {
    "name": "ipython",
    "version": 3
   },
   "file_extension": ".py",
   "mimetype": "text/x-python",
   "name": "python",
   "nbconvert_exporter": "python",
   "pygments_lexer": "ipython3",
   "version": "3.12.4"
  }
 },
 "nbformat": 4,
 "nbformat_minor": 5
}
